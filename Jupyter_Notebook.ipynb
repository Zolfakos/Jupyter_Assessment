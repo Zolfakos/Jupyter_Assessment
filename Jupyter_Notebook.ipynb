{
 "cells": [
  {
   "cell_type": "markdown",
   "id": "df31ef57-3a91-484e-b05d-4e48a3d9d64c",
   "metadata": {},
   "source": [
    "# My Jupyter Notebook on IBM Watson Studio"
   ]
  },
  {
   "cell_type": "markdown",
   "id": "5b25dc9f-fc27-4672-bbc9-b00c38496a76",
   "metadata": {},
   "source": [
    "<br>**Dimitrios Papapostolou**\n",
    "<br>Current role: Data and Rules Lead"
   ]
  },
  {
   "cell_type": "markdown",
   "id": "8c357da1-e764-42f2-8dd0-f1e856188c17",
   "metadata": {},
   "source": [
    "*I am interested in data science because as a curious individual I enjoy exploring data sets and driving key insights from them, in order help shape the strategy of the company I working at.*"
   ]
  },
  {
   "cell_type": "markdown",
   "id": "4c7bc03f-df0c-470a-9fde-ac4c97355f57",
   "metadata": {},
   "source": [
    "### The following script will generate a random number between 0 and 100 and based on its outcome it will print different text (which will indicate the results)."
   ]
  },
  {
   "cell_type": "code",
   "execution_count": 7,
   "id": "5a3467f6-12c9-4e21-b9c4-e9a277fc29fd",
   "metadata": {},
   "outputs": [
    {
     "name": "stdout",
     "output_type": "stream",
     "text": [
      "We got an x value of 78 (more than 50) so y value will be 2\n"
     ]
    }
   ],
   "source": [
    "from random import randint\n",
    "x = randint(0, 100)\n",
    "if x >= 50:\n",
    "    y = 2\n",
    "    print(\"We got an x value\", \"of\", x, \"(more than 50)\", \"so y value will be\", y)\n",
    "else:\n",
    "    y = 1\n",
    "    print(\"We got an x value\", \"of\", x, \"(less than 50)\", \"so y value will be\", y)"
   ]
  },
  {
   "cell_type": "markdown",
   "id": "c0e32d2a-d10c-4c1b-9777-7aea04fb5561",
   "metadata": {
    "tags": []
   },
   "source": [
    "+ Below you can find a sample table:\n",
    "\n",
    "| Column1 | Column2 | Column3 |\n",
    "| ------- | ------- | ------- |\n",
    "| 1       | a       | 10 Euro |\n",
    "| 2       | b       | 20 Euro |\n",
    "| 3       | c       | 30 Euro |\n",
    "\n",
    "---\n",
    "\n",
    "+ At this point we should pinpoint the fact that a data scientist must be:\n",
    "\n",
    "1. Curious\n",
    "2. Argumentative\n",
    "3. Judgemental\n",
    "\n",
    "---\n",
    "\n",
    "+ For more info on the subject please use the following hyperlink:\n",
    "\n",
    "[You can search for everything here](https://www.google.com \"Google's Homepage\")\n",
    "\n",
    "---\n",
    "\n",
    "#### Thanks for reviewing\n",
    "\n",
    "---\n"
   ]
  }
 ],
 "metadata": {
  "kernelspec": {
   "display_name": "Python",
   "language": "python",
   "name": "conda-env-python-py"
  },
  "language_info": {
   "codemirror_mode": {
    "name": "ipython",
    "version": 3
   },
   "file_extension": ".py",
   "mimetype": "text/x-python",
   "name": "python",
   "nbconvert_exporter": "python",
   "pygments_lexer": "ipython3",
   "version": "3.7.12"
  }
 },
 "nbformat": 4,
 "nbformat_minor": 5
}
